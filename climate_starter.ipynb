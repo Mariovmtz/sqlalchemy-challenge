{
 "cells": [
  {
   "cell_type": "code",
   "execution_count": 1,
   "metadata": {},
   "outputs": [],
   "source": [
    "%matplotlib inline\n",
    "from matplotlib import style\n",
    "style.use('fivethirtyeight')\n",
    "import matplotlib.pyplot as plt"
   ]
  },
  {
   "cell_type": "code",
   "execution_count": 2,
   "metadata": {},
   "outputs": [],
   "source": [
    "import numpy as np\n",
    "import pandas as pd"
   ]
  },
  {
   "cell_type": "code",
   "execution_count": 3,
   "metadata": {},
   "outputs": [],
   "source": [
    "import datetime as dt"
   ]
  },
  {
   "cell_type": "markdown",
   "metadata": {},
   "source": [
    "# Reflect Tables into SQLAlchemy ORM"
   ]
  },
  {
   "cell_type": "code",
   "execution_count": 4,
   "metadata": {},
   "outputs": [],
   "source": [
    "# Python SQL toolkit and Object Relational Mapper\n",
    "import sqlalchemy\n",
    "from sqlalchemy.ext.automap import automap_base\n",
    "from sqlalchemy.orm import Session\n",
    "from sqlalchemy import create_engine, func"
   ]
  },
  {
   "cell_type": "code",
   "execution_count": 5,
   "metadata": {},
   "outputs": [],
   "source": [
    "engine = create_engine(\"sqlite:///Resources/hawaii.sqlite\")"
   ]
  },
  {
   "cell_type": "code",
   "execution_count": 6,
   "metadata": {},
   "outputs": [],
   "source": [
    "# reflect an existing database into a new model\n",
    "base = automap_base()\n",
    "base.prepare(engine, reflect=True)"
   ]
  },
  {
   "cell_type": "code",
   "execution_count": 7,
   "metadata": {},
   "outputs": [
    {
     "data": {
      "text/plain": [
       "['measurement', 'station']"
      ]
     },
     "execution_count": 7,
     "metadata": {},
     "output_type": "execute_result"
    }
   ],
   "source": [
    "# We can view all of the classes that automap found\n",
    "base.classes.keys()"
   ]
  },
  {
   "cell_type": "code",
   "execution_count": 8,
   "metadata": {},
   "outputs": [],
   "source": [
    "# Save references to each table\n",
    "Measurement = base.classes.measurement\n",
    "Station = base.classes.station"
   ]
  },
  {
   "cell_type": "code",
   "execution_count": 9,
   "metadata": {},
   "outputs": [],
   "source": [
    "# Create our session (link) from Python to the DB\n",
    "session = Session(engine)"
   ]
  },
  {
   "cell_type": "code",
   "execution_count": 10,
   "metadata": {},
   "outputs": [
    {
     "name": "stdout",
     "output_type": "stream",
     "text": [
      "-------------------------------- \n",
      " measurements class fields: \n",
      "--------------------------------\n",
      "column: id  type: INTEGER\n",
      "column: station  type: TEXT\n",
      "column: date  type: TEXT\n",
      "column: prcp  type: FLOAT\n",
      "column: tobs  type: FLOAT\n",
      "-------------------------------- \n",
      " stations class fields: \n",
      "--------------------------------\n",
      "column: id  type: INTEGER\n",
      "column: station  type: TEXT\n",
      "column: name  type: TEXT\n",
      "column: latitude  type: FLOAT\n",
      "column: longitude  type: FLOAT\n",
      "column: elevation  type: FLOAT\n"
     ]
    }
   ],
   "source": [
    "print(f\"-------------------------------- \\n measurements class fields: \\n--------------------------------\")\n",
    "for col in Measurement.__table__.columns:\n",
    "    print(f\"column: {col.key}  type: {col.type}\")\n",
    "\n",
    "print(f\"-------------------------------- \\n stations class fields: \\n--------------------------------\")\n",
    "for col in Station.__table__.columns:   \n",
    "    print(f\"column: {col.key}  type: {col.type}\")"
   ]
  },
  {
   "cell_type": "markdown",
   "metadata": {},
   "source": [
    "# Exploratory Climate Analysis"
   ]
  },
  {
   "cell_type": "code",
   "execution_count": 12,
   "metadata": {},
   "outputs": [
    {
     "name": "stdout",
     "output_type": "stream",
     "text": [
      "2017-08-23 has type <class 'str'>\n",
      "2016-08-23 has type <class 'str'>\n",
      "<class 'list'>\n",
      "            prcp\n",
      "date            \n",
      "2016-08-23  0.00\n",
      "2016-08-23  0.00\n",
      "2016-08-23  1.79\n",
      "2016-08-23  0.05\n",
      "2016-08-23  0.15\n"
     ]
    },
    {
     "data": {
      "image/png": "[encoded data removed]",
      "text/plain": [
       "<Figure size 864x360 with 1 Axes>"
      ]
     },
     "metadata": {
      "needs_background": "light"
     },
     "output_type": "display_data"
    },
    {
     "data": {
      "text/plain": [
       "<Figure size 432x288 with 0 Axes>"
      ]
     },
     "metadata": {},
     "output_type": "display_data"
    }
   ],
   "source": [
    "# Design a query to retrieve the last 12 months of precipitation data and plot the results\n",
    "# Calculate the date 1 year ago from the last data point in the database\n",
    "# Perform a query to retrieve the data and precipitation scores\n",
    "# using .limit(1).scalar() to retrieve a single string variable, \n",
    "# using .first() returns a sqlalchemy result type object\n",
    "\n",
    "last_date = session.query(Measurement.date).order_by(Measurement.date.desc()).limit(1).scalar()\n",
    "print(f\"{last_date} has type {type(last_date)}\")\n",
    "\n",
    "last_date_one_yr = str(dt.datetime.strptime(last_date, '%Y-%m-%d').date() - dt.timedelta(days=365))\n",
    "print(f\"{last_date_one_yr} has type {type(last_date_one_yr)}\")\n",
    "\n",
    "year_ago_data = session.query(Measurement.date, Measurement.prcp).\\\n",
    "    filter(Measurement.date >= last_date_one_yr).all()\n",
    "\n",
    "print(type(year_ago_data))\n",
    "\n",
    "# Save the query results as a Pandas DataFrame and set the index to the date column\n",
    "# Sort the dataframe by date\n",
    "precip_dt = pd.DataFrame(year_ago_data)\n",
    "precip_dt = precip_dt.set_index(\"date\")\n",
    "precip_dt = precip_dt.fillna(0)\n",
    "precip_dt.index = pd.to_datetime(precip_dt.index)\n",
    "precip_dt = precip_dt.sort_index()\n",
    "# Use Pandas Plotting with Matplotlib to plot the data\n",
    "\n",
    "print(precip_dt.head())\n",
    "\n",
    "precip_dt.plot(figsize=(12,5))\n",
    "plt.show()\n",
    "plt.savefig('\\Images\\precipitation.png')"
   ]
  },
  {
   "cell_type": "code",
   "execution_count": 12,
   "metadata": {},
   "outputs": [
    {
     "data": {
      "text/html": [
       "<div>\n",
       "<style scoped>\n",
       "    .dataframe tbody tr th:only-of-type {\n",
       "        vertical-align: middle;\n",
       "    }\n",
       "\n",
       "    .dataframe tbody tr th {\n",
       "        vertical-align: top;\n",
       "    }\n",
       "\n",
       "    .dataframe thead th {\n",
       "        text-align: right;\n",
       "    }\n",
       "</style>\n",
       "<table border=\"1\" class=\"dataframe\">\n",
       "  <thead>\n",
       "    <tr style=\"text-align: right;\">\n",
       "      <th></th>\n",
       "      <th>prcp</th>\n",
       "    </tr>\n",
       "  </thead>\n",
       "  <tbody>\n",
       "    <tr>\n",
       "      <td>count</td>\n",
       "      <td>2230.000000</td>\n",
       "    </tr>\n",
       "    <tr>\n",
       "      <td>mean</td>\n",
       "      <td>0.160664</td>\n",
       "    </tr>\n",
       "    <tr>\n",
       "      <td>std</td>\n",
       "      <td>0.442067</td>\n",
       "    </tr>\n",
       "    <tr>\n",
       "      <td>min</td>\n",
       "      <td>0.000000</td>\n",
       "    </tr>\n",
       "    <tr>\n",
       "      <td>25%</td>\n",
       "      <td>0.000000</td>\n",
       "    </tr>\n",
       "    <tr>\n",
       "      <td>50%</td>\n",
       "      <td>0.010000</td>\n",
       "    </tr>\n",
       "    <tr>\n",
       "      <td>75%</td>\n",
       "      <td>0.110000</td>\n",
       "    </tr>\n",
       "    <tr>\n",
       "      <td>max</td>\n",
       "      <td>6.700000</td>\n",
       "    </tr>\n",
       "  </tbody>\n",
       "</table>\n",
       "</div>"
      ],
      "text/plain": [
       "              prcp\n",
       "count  2230.000000\n",
       "mean      0.160664\n",
       "std       0.442067\n",
       "min       0.000000\n",
       "25%       0.000000\n",
       "50%       0.010000\n",
       "75%       0.110000\n",
       "max       6.700000"
      ]
     },
     "execution_count": 12,
     "metadata": {},
     "output_type": "execute_result"
    }
   ],
   "source": [
    "# Use Pandas to calcualte the summary statistics for the precipitation data\n",
    "precip_dt.describe()"
   ]
  },
  {
   "cell_type": "code",
   "execution_count": 13,
   "metadata": {},
   "outputs": [
    {
     "data": {
      "text/plain": [
       "9"
      ]
     },
     "execution_count": 13,
     "metadata": {},
     "output_type": "execute_result"
    }
   ],
   "source": [
    "# Design a query to show how many stations are available in this dataset?\n",
    "session.query(func.count(Station.id)).scalar()"
   ]
  },
  {
   "cell_type": "code",
   "execution_count": 14,
   "metadata": {},
   "outputs": [
    {
     "name": "stdout",
     "output_type": "stream",
     "text": [
      "[('USC00519281', 2772), ('USC00519397', 2724), ('USC00513117', 2709), ('USC00519523', 2669), ('USC00516128', 2612), ('USC00514830', 2202), ('USC00511918', 1979), ('USC00517948', 1372), ('USC00518838', 511)]\n"
     ]
    },
    {
     "data": {
      "text/plain": [
       "list"
      ]
     },
     "execution_count": 14,
     "metadata": {},
     "output_type": "execute_result"
    }
   ],
   "source": [
    "# What are the most active stations? (i.e. what stations have the most rows)?\n",
    "# List the stations and the counts in descending order.\n",
    "result = session.query(Measurement.station, func.count(Measurement.station)).\\\n",
    "group_by(Measurement.station).order_by(func.count(Measurement.station).desc()).all()\n",
    "\n",
    "print(result)\n",
    "type(result)"
   ]
  },
  {
   "cell_type": "code",
   "execution_count": 15,
   "metadata": {},
   "outputs": [
    {
     "name": "stdout",
     "output_type": "stream",
     "text": [
      "USC00519281\n",
      "[(54.0, 85.0, 71.66378066378067)]\n"
     ]
    }
   ],
   "source": [
    "# Using the station id from the previous query, calculate the lowest temperature recorded, \n",
    "# highest temperature recorded, and average temperature of the most active station?\n",
    "mactive_station = result[0][0]\n",
    "print(mactive_station)\n",
    "\n",
    "result = session.query(func.min(Measurement.tobs), func.max(Measurement.tobs), func.avg(Measurement.tobs)).\\\n",
    "filter(Measurement.station == mactive_station).all()\n",
    "\n",
    "print(result)"
   ]
  },
  {
   "cell_type": "code",
   "execution_count": 16,
   "metadata": {},
   "outputs": [
    {
     "data": {
      "image/png": "[encoded data removed]",
      "text/plain": [
       "<Figure size 360x360 with 1 Axes>"
      ]
     },
     "metadata": {
      "needs_background": "light"
     },
     "output_type": "display_data"
    }
   ],
   "source": [
    "# Choose the station with the highest number of temperature observations.\n",
    "# Query the last 12 months of temperature observation data for this station and plot the results as a histogram\n",
    "\n",
    "result = session.query(Measurement.tobs).filter(Measurement.date >= last_date_one_yr).\\\n",
    "filter(Measurement.station==mactive_station).all()\n",
    "\n",
    "station_temp_dt = pd.DataFrame(result)\n",
    "station_temp_dt.head()\n",
    "\n",
    "station_temp_dt.hist(figsize=(5,5), bins = 12)\n",
    "plt.show()"
   ]
  },
  {
   "cell_type": "markdown",
   "metadata": {},
   "source": [
    "## Bonus Challenge Assignment"
   ]
  },
  {
   "cell_type": "code",
   "execution_count": 17,
   "metadata": {},
   "outputs": [
    {
     "name": "stdout",
     "output_type": "stream",
     "text": [
      "[(62.0, 69.57142857142857, 74.0)]\n"
     ]
    }
   ],
   "source": [
    "# This function called `calc_temps` will accept start date and end date in the format '%Y-%m-%d' \n",
    "# and return the minimum, average, and maximum temperatures for that range of dates\n",
    "def calc_temps(start_date, end_date):\n",
    "    \"\"\"TMIN, TAVG, and TMAX for a list of dates.\n",
    "    \n",
    "    Args:\n",
    "        start_date (string): A date string in the format %Y-%m-%d\n",
    "        end_date (string): A date string in the format %Y-%m-%d\n",
    "        \n",
    "    Returns:\n",
    "        TMIN, TAVE, and TMAX\n",
    "    \"\"\"\n",
    "    \n",
    "    return session.query(func.min(Measurement.tobs), func.avg(Measurement.tobs), func.max(Measurement.tobs)).\\\n",
    "        filter(Measurement.date >= start_date).filter(Measurement.date <= end_date).all()\n",
    "\n",
    "# function usage example\n",
    "print(calc_temps('2012-02-28', '2012-03-05'))"
   ]
  },
  {
   "cell_type": "code",
   "execution_count": 18,
   "metadata": {},
   "outputs": [
    {
     "data": {
      "text/plain": [
       "[(60.0, 70.76811594202898, 78.0)]"
      ]
     },
     "execution_count": 18,
     "metadata": {},
     "output_type": "execute_result"
    }
   ],
   "source": [
    "# Use your previous function `calc_temps` to calculate the tmin, tavg, and tmax \n",
    "# for your trip using the previous year's data for those same dates.\n",
    "st_date = \"2016-12-15\"\n",
    "end_date = \"2017-01-05\"\n",
    "\n",
    "trip_result = calc_temps(st_date, end_date)\n",
    "trip_result"
   ]
  },
  {
   "cell_type": "code",
   "execution_count": 19,
   "metadata": {},
   "outputs": [
    {
     "data": {
      "image/png": "[encoded data removed]",
      "text/plain": [
       "<Figure size 432x288 with 1 Axes>"
      ]
     },
     "metadata": {
      "needs_background": "light"
     },
     "output_type": "display_data"
    }
   ],
   "source": [
    "# Plot the results from your previous query as a bar chart. \n",
    "# Use \"Trip Avg Temp\" as your Title\n",
    "# Use the average temperature for the y value\n",
    "# Use the peak-to-peak (tmax-tmin) value as the y error bar (yerr)\n",
    "\n",
    "min_temp = trip_result[0][0]\n",
    "max_temp = trip_result[0][2]\n",
    "av_temp = trip_result[0][1]\n",
    "yerr = max_temp - min_temp\n",
    "\n",
    "\n",
    "plt.bar(0, av_temp, yerr=yerr, align='center', ecolor='gray', capsize=4, color = 'yellow')\n",
    "plt.title(\"Trip Avg Temp\")\n",
    "plt.xticks([],[])\n",
    "plt.tight_layout()\n",
    "plt.margins(1.5, 1.5)\n",
    "plt.ylim(0, 90)\n",
    "plt.ylabel(\"Temp. (F)\")\n",
    "plt.show()"
   ]
  },
  {
   "cell_type": "code",
   "execution_count": 20,
   "metadata": {},
   "outputs": [
    {
     "name": "stdout",
     "output_type": "stream",
     "text": [
      "('USC00516128', 'WAIKIKI 717.2, HI US', 21.2716, -157.8168, 3.0, 0.5733333333333338)\n",
      "('USC00519281', 'WAIKIKI 717.2, HI US', 21.2716, -157.8168, 3.0, 0.159)\n",
      "('USC00513117', 'WAIKIKI 717.2, HI US', 21.2716, -157.8168, 3.0, 0.13949999999999996)\n",
      "('USC00514830', 'WAIKIKI 717.2, HI US', 21.2716, -157.8168, 3.0, 0.08833333333333325)\n",
      "('USC00519523', 'WAIKIKI 717.2, HI US', 21.2716, -157.8168, 3.0, 0.07249999999999984)\n",
      "('USC00517948', 'WAIKIKI 717.2, HI US', 21.2716, -157.8168, 3.0, 0.060000000000000005)\n",
      "('USC00519397', 'WAIKIKI 717.2, HI US', 21.2716, -157.8168, 3.0, 0.0195)\n"
     ]
    }
   ],
   "source": [
    "# Calculate the total amount of rainfall per weather station for your trip dates using the previous year's matching dates.\n",
    "# Sort this in descending order by precipitation amount and list the station, name, latitude, longitude, and elevation\n",
    "\n",
    "result = session.query(Measurement.station, Station.name, Station.latitude,\n",
    "                       Station.longitude, Station.elevation, func.avg(Measurement.prcp)).\\\n",
    "filter(Measurement.date > st_date ).filter(Measurement.date < end_date).group_by(Measurement.station).\\\n",
    "order_by(func.avg(Measurement.prcp).desc()).all()\n",
    "\n",
    "for x in result:\n",
    "    print(x)"
   ]
  },
  {
   "cell_type": "code",
   "execution_count": 21,
   "metadata": {},
   "outputs": [
    {
     "data": {
      "text/plain": [
       "[(62.0, 69.15384615384616, 77.0)]"
      ]
     },
     "execution_count": 21,
     "metadata": {},
     "output_type": "execute_result"
    }
   ],
   "source": [
    "# Create a query that will calculate the daily normals \n",
    "# (i.e. the averages for tmin, tmax, and tavg for all historic data matching a specific month and day)\n",
    "\n",
    "def daily_normals(date):\n",
    "    \"\"\"Daily Normals.\n",
    "    \n",
    "    Args:\n",
    "        date (str): A date string in the format '%m-%d'\n",
    "        \n",
    "    Returns:\n",
    "        A list of tuples containing the daily normals, tmin, tavg, and tmax\n",
    "    \n",
    "    \"\"\"\n",
    "    \n",
    "    sel = [func.min(Measurement.tobs), func.avg(Measurement.tobs), func.max(Measurement.tobs)]\n",
    "    return session.query(*sel).filter(func.strftime(\"%m-%d\", Measurement.date) == date).all()\n",
    "    \n",
    "daily_normals(\"01-01\")"
   ]
  },
  {
   "cell_type": "code",
   "execution_count": 22,
   "metadata": {},
   "outputs": [
    {
     "name": "stdout",
     "output_type": "stream",
     "text": [
      "(datetime.date(2016, 12, 15), 62.0, 71.34, 79.0)\n",
      "(datetime.date(2016, 12, 16), 60.0, 69.62264150943396, 82.0)\n",
      "(datetime.date(2016, 12, 17), 63.0, 70.64, 77.0)\n",
      "(datetime.date(2016, 12, 18), 63.0, 71.28, 77.0)\n",
      "(datetime.date(2016, 12, 19), 67.0, 72.0, 78.0)\n",
      "(datetime.date(2016, 12, 20), 65.0, 72.91304347826087, 81.0)\n",
      "(datetime.date(2016, 12, 21), 67.0, 72.13953488372093, 78.0)\n",
      "(datetime.date(2016, 12, 22), 67.0, 71.1304347826087, 77.0)\n",
      "(datetime.date(2016, 12, 23), 61.0, 70.34693877551021, 78.0)\n",
      "(datetime.date(2016, 12, 24), 62.0, 70.0625, 78.0)\n",
      "(datetime.date(2016, 12, 25), 60.0, 71.75, 79.0)\n",
      "(datetime.date(2016, 12, 26), 63.0, 71.44680851063829, 77.0)\n",
      "(datetime.date(2016, 12, 27), 62.0, 71.91666666666667, 79.0)\n",
      "(datetime.date(2016, 12, 28), 62.0, 70.52083333333333, 77.0)\n",
      "(datetime.date(2016, 12, 29), 57.0, 70.29166666666667, 78.0)\n",
      "(datetime.date(2016, 12, 30), 63.0, 69.86363636363636, 76.0)\n",
      "(datetime.date(2016, 12, 31), 56.0, 68.27906976744185, 77.0)\n",
      "(datetime.date(2017, 1, 1), 62.0, 69.15384615384616, 77.0)\n",
      "(datetime.date(2017, 1, 2), 60.0, 69.39622641509433, 77.0)\n",
      "(datetime.date(2017, 1, 3), 62.0, 68.9090909090909, 77.0)\n",
      "(datetime.date(2017, 1, 4), 58.0, 70.0, 76.0)\n",
      "(datetime.date(2017, 1, 5), 56.0, 67.96428571428571, 76.0)\n"
     ]
    }
   ],
   "source": [
    "# calculate the daily normals for your trip\n",
    "# push each tuple of calculations into a list called `normals`\n",
    "# Set the start and end date of the trip\n",
    "\n",
    "st_date_dt = dt.datetime.strptime(st_date, '%Y-%m-%d').date()\n",
    "end_date_dt = dt.datetime.strptime(end_date, '%Y-%m-%d').date()\n",
    "\n",
    "# Use the start and end date to create a range of dates\n",
    "days = (end_date_dt - st_date_dt).days + 1 #plus one to include 5th of january\n",
    "date_range = [st_date_dt + dt.timedelta(days=x) for x in range(0,days)]\n",
    "\n",
    "# Stip off the year and save a list of %m-%d strings\n",
    "# Had to add additional padding zeroes: 02\n",
    "month_day = [(date, f\"{date.month:02}-{date.day:02}\") for date in date_range]\n",
    "\n",
    "# Loop through the list of %m-%d strings and calculate the normals for each date\n",
    "normals = [[dm[0],daily_normals(dm[1])] for dm in month_day]\n",
    "\n",
    "normals_final = [(row[0],row[1][0][0],row[1][0][1],row[1][0][2]) for row in normals]\n",
    "\n",
    "for normal in normals_final:\n",
    "    print(normal)"
   ]
  },
  {
   "cell_type": "code",
   "execution_count": 23,
   "metadata": {},
   "outputs": [
    {
     "data": {
      "text/html": [
       "<div>\n",
       "<style scoped>\n",
       "    .dataframe tbody tr th:only-of-type {\n",
       "        vertical-align: middle;\n",
       "    }\n",
       "\n",
       "    .dataframe tbody tr th {\n",
       "        vertical-align: top;\n",
       "    }\n",
       "\n",
       "    .dataframe thead th {\n",
       "        text-align: right;\n",
       "    }\n",
       "</style>\n",
       "<table border=\"1\" class=\"dataframe\">\n",
       "  <thead>\n",
       "    <tr style=\"text-align: right;\">\n",
       "      <th></th>\n",
       "      <th>tmin</th>\n",
       "      <th>tavg</th>\n",
       "      <th>tmax</th>\n",
       "    </tr>\n",
       "    <tr>\n",
       "      <th>date</th>\n",
       "      <th></th>\n",
       "      <th></th>\n",
       "      <th></th>\n",
       "    </tr>\n",
       "  </thead>\n",
       "  <tbody>\n",
       "    <tr>\n",
       "      <td>2016-12-15</td>\n",
       "      <td>62.0</td>\n",
       "      <td>71.340000</td>\n",
       "      <td>79.0</td>\n",
       "    </tr>\n",
       "    <tr>\n",
       "      <td>2016-12-16</td>\n",
       "      <td>60.0</td>\n",
       "      <td>69.622642</td>\n",
       "      <td>82.0</td>\n",
       "    </tr>\n",
       "    <tr>\n",
       "      <td>2016-12-17</td>\n",
       "      <td>63.0</td>\n",
       "      <td>70.640000</td>\n",
       "      <td>77.0</td>\n",
       "    </tr>\n",
       "    <tr>\n",
       "      <td>2016-12-18</td>\n",
       "      <td>63.0</td>\n",
       "      <td>71.280000</td>\n",
       "      <td>77.0</td>\n",
       "    </tr>\n",
       "    <tr>\n",
       "      <td>2016-12-19</td>\n",
       "      <td>67.0</td>\n",
       "      <td>72.000000</td>\n",
       "      <td>78.0</td>\n",
       "    </tr>\n",
       "  </tbody>\n",
       "</table>\n",
       "</div>"
      ],
      "text/plain": [
       "            tmin       tavg  tmax\n",
       "date                             \n",
       "2016-12-15  62.0  71.340000  79.0\n",
       "2016-12-16  60.0  69.622642  82.0\n",
       "2016-12-17  63.0  70.640000  77.0\n",
       "2016-12-18  63.0  71.280000  77.0\n",
       "2016-12-19  67.0  72.000000  78.0"
      ]
     },
     "execution_count": 23,
     "metadata": {},
     "output_type": "execute_result"
    }
   ],
   "source": [
    "# Load the previous query results into a Pandas DataFrame and add the `trip_dates` range as the `date` index\n",
    "trip_ranges = pd.DataFrame(normals_final, columns = [\"date\",\"tmin\",\"tavg\",\"tmax\"])\n",
    "trip_ranges = trip_ranges.set_index(\"date\")\n",
    "trip_ranges.head()"
   ]
  },
  {
   "cell_type": "code",
   "execution_count": 24,
   "metadata": {},
   "outputs": [
    {
     "data": {
      "text/plain": [
       "<matplotlib.axes._subplots.AxesSubplot at 0x1226b1850>"
      ]
     },
     "execution_count": 24,
     "metadata": {},
     "output_type": "execute_result"
    },
    {
     "data": {
      "image/png": "[encoded data removed]",
      "text/plain": [
       "<Figure size 576x576 with 1 Axes>"
      ]
     },
     "metadata": {
      "needs_background": "light"
     },
     "output_type": "display_data"
    }
   ],
   "source": [
    "# Plot the daily normals as an area plot with `stacked=False`\n",
    "\n",
    "trip_ranges.plot.area(x_compat=True, stacked=False, figsize=(8,8))"
   ]
  },
  {
   "cell_type": "code",
   "execution_count": null,
   "metadata": {},
   "outputs": [],
   "source": []
  },
  {
   "cell_type": "code",
   "execution_count": null,
   "metadata": {},
   "outputs": [],
   "source": []
  }
 ],
 "metadata": {
  "kernel_info": {
   "name": "python3"
  },
  "kernelspec": {
   "display_name": "Python 3",
   "language": "python",
   "name": "python3"
  },
  "language_info": {
   "codemirror_mode": {
    "name": "ipython",
    "version": 3
   },
   "file_extension": ".py",
   "mimetype": "text/x-python",
   "name": "python",
   "nbconvert_exporter": "python",
   "pygments_lexer": "ipython3",
   "version": "3.7.4"
  },
  "nteract": {
   "version": "0.12.3"
  },
  "varInspector": {
   "cols": {
    "lenName": 16,
    "lenType": 16,
    "lenVar": 40
   },
   "kernels_config": {
    "python": {
     "delete_cmd_postfix": "",
     "delete_cmd_prefix": "del ",
     "library": "var_list.py",
     "varRefreshCmd": "print(var_dic_list())"
    },
    "r": {
     "delete_cmd_postfix": ") ",
     "delete_cmd_prefix": "rm(",
     "library": "var_list.r",
     "varRefreshCmd": "cat(var_dic_list()) "
    }
   },
   "types_to_exclude": [
    "module",
    "function",
    "builtin_function_or_method",
    "instance",
    "_Feature"
   ],
   "window_display": false
  }
 },
 "nbformat": 4,
 "nbformat_minor": 2
}
